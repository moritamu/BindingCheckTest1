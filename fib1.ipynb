{
  "nbformat": 4,
  "nbformat_minor": 0,
  "metadata": {
    "colab": {
      "provenance": [],
      "authorship_tag": "ABX9TyMaPtFNDund5tO3xh9pwQ3a",
      "include_colab_link": true
    },
    "kernelspec": {
      "name": "python3",
      "display_name": "Python 3"
    },
    "language_info": {
      "name": "python"
    }
  },
  "cells": [
    {
      "cell_type": "markdown",
      "metadata": {
        "id": "view-in-github",
        "colab_type": "text"
      },
      "source": [
        "<a href=\"https://colab.research.google.com/github/moritamu/BindingCheckTest1/blob/main/fib1.ipynb\" target=\"_parent\"><img src=\"https://colab.research.google.com/assets/colab-badge.svg\" alt=\"Open In Colab\"/></a>"
      ]
    },
    {
      "cell_type": "code",
      "execution_count": 13,
      "metadata": {
        "colab": {
          "base_uri": "https://localhost:8080/"
        },
        "id": "yn0J3l9ADanO",
        "outputId": "9ffcb85c-3c22-4716-ca95-2f0c0274a1f7"
      },
      "outputs": [
        {
          "output_type": "stream",
          "name": "stdout",
          "text": [
            "0:1:1:2:3:5:8:13:21:34:55:89:"
          ]
        }
      ],
      "source": [
        "def fib(n):\n",
        "  a,b = 0,1\n",
        "  while a<n:\n",
        "    print(a,end=':')\n",
        "    a,b=b,a+b\n",
        "  #print()\n",
        "fib(100)"
      ]
    },
    {
      "cell_type": "code",
      "source": [],
      "metadata": {
        "id": "IiK9JwEuGAbF"
      },
      "execution_count": null,
      "outputs": []
    }
  ]
}